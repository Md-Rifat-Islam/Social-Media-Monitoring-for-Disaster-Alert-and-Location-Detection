{
 "cells": [
  {
   "cell_type": "code",
   "execution_count": null,
   "metadata": {
    "executionInfo": {
     "elapsed": 1073,
     "status": "ok",
     "timestamp": 1701228819979,
     "user": {
      "displayName": "Md Jamaluddin Tanvin",
      "userId": "06457395428218551143"
     },
     "user_tz": -360
    },
    "id": "AVoHf4PyN5JL"
   },
   "outputs": [],
   "source": [
    "# Import necessary libraries\n",
    "import pandas as pd  # For data manipulation and storage\n",
    "from selenium import webdriver  # For web scraping\n",
    "from selenium.webdriver.common.by import By  # To locate elements on the webpage\n",
    "from selenium.webdriver.common.keys import Keys  # To simulate keyboard inputs\n",
    "import time  # For adding delays"
   ]
  },
  {
   "cell_type": "markdown",
   "metadata": {},
   "source": [
    "# Install and configure Selenium and Chrome WebDriver\n",
    "!pip install selenium\n",
    "!apt-get update\n",
    "!apt install -y chromium-chromedriver\n",
    "!cp /usr/lib/chromium-browser/chromedriver /usr/bin"
   ]
  },
  {
   "cell_type": "code",
   "execution_count": null,
   "metadata": {
    "executionInfo": {
     "elapsed": 457,
     "status": "ok",
     "timestamp": 1701228874689,
     "user": {
      "displayName": "Md Jamaluddin Tanvin",
      "userId": "06457395428218551143"
     },
     "user_tz": -360
    },
    "id": "odthe7pbnco5"
   },
   "outputs": [],
   "source": [
    "def scrape_facebook_hashtag(hashtag, num_posts):\n",
    "    \"\"\"\n",
    "    Scrapes Facebook posts for a given hashtag.\n",
    "    \n",
    "    Parameters:\n",
    "    - hashtag: The hashtag to search for on Facebook.\n",
    "    - num_posts: The number of posts to scrape.\n",
    "\n",
    "    Returns:\n",
    "    - A list of text content from posts.\n",
    "    \"\"\"\n",
    "    # Configure Chrome WebDriver in headless mode\n",
    "    options = webdriver.ChromeOptions()\n",
    "    options.add_argument('--headless')  # Run browser in the background\n",
    "    options.add_argument('--no-sandbox')  # Disable sandboxing for performance\n",
    "    options.add_argument('--disable-dev-shm-usage')  # Avoid shared memory issues\n",
    "    driver = webdriver.Chrome(options=options)  # Initialize WebDriver\n",
    "\n",
    "    # Construct the Facebook URL for the given hashtag\n",
    "    url = f'https://www.facebook.com/hashtag/{hashtag}'\n",
    "    driver.get(url)  # Open the URL in the browser\n",
    "\n",
    "    # Wait for the page to load completely\n",
    "    time.sleep(10)\n",
    "\n",
    "    # Scroll the page until enough posts are loaded or stop if no more posts appear\n",
    "    while len(driver.find_elements(By.CSS_SELECTOR, 'div[dir=\"auto\"][style=\"text-align: start;\"]')) < num_posts:\n",
    "        driver.find_element(By.TAG_NAME, 'body').send_keys(Keys.END)  # Scroll to the page bottom\n",
    "        time.sleep(2)  # Allow time for posts to load\n",
    "\n",
    "    # Extract text from the specific post content elements\n",
    "    div_texts = driver.find_elements(By.CSS_SELECTOR, 'div[dir=\"auto\"][style=\"text-align: start;\"]')\n",
    "    text_list = [div.text for div in div_texts[:num_posts]]  # Collect the specified number of posts\n",
    "\n",
    "    # Close the browser\n",
    "    driver.quit()\n",
    "\n",
    "    return text_list"
   ]
  },
  {
   "cell_type": "code",
   "execution_count": null,
   "metadata": {
    "executionInfo": {
     "elapsed": 10,
     "status": "ok",
     "timestamp": 1701227896271,
     "user": {
      "displayName": "Md Jamaluddin Tanvin",
      "userId": "06457395428218551143"
     },
     "user_tz": -360
    },
    "id": "YVWcUnvP8cbv"
   },
   "outputs": [],
   "source": [
    "# hashtags=[\n",
    "#     'wildfire',\n",
    "#     'earthquake',\n",
    "#     'flood',\n",
    "#     'hurricane',\n",
    "#     'typhoon',\n",
    "#     'tornado',\n",
    "#     'tsunami',\n",
    "#     'drought',\n",
    "#     'famine',\n",
    "#     'epidemic',\n",
    "#     'pandemic',\n",
    "#     'outbreak',\n",
    "#     'accident',\n",
    "#     'disaster'\n",
    "# ]"
   ]
  },
  {
   "cell_type": "code",
   "execution_count": null,
   "metadata": {
    "executionInfo": {
     "elapsed": 444,
     "status": "ok",
     "timestamp": 1701228890154,
     "user": {
      "displayName": "Md Jamaluddin Tanvin",
      "userId": "06457395428218551143"
     },
     "user_tz": -360
    },
    "id": "ErU5xim8FHgN"
   },
   "outputs": [],
   "source": [
    "# List of hashtags to scrape\n",
    "hashtags=[\n",
    "    'earthquake',\n",
    "    'flood',\n",
    "    'hurricane',\n",
    "    'typhoon',\n",
    "    'tornado',\n",
    "    'tsunami',\n",
    "    'accident',\n",
    "    'disaster'\n",
    "]"
   ]
  },
  {
   "cell_type": "code",
   "execution_count": null,
   "metadata": {
    "colab": {
     "base_uri": "https://localhost:8080/"
    },
    "executionInfo": {
     "elapsed": 12836,
     "status": "ok",
     "timestamp": 1701228986414,
     "user": {
      "displayName": "Md Jamaluddin Tanvin",
      "userId": "06457395428218551143"
     },
     "user_tz": -360
    },
    "id": "mkxWaP_VOarr",
    "outputId": "eaa05a3f-c96d-4a87-9cd2-2263c4c82d99"
   },
   "outputs": [],
   "source": [
    "texts = scrape_facebook_hashtag('disaster', num_posts=3)\n",
    "print(texts)"
   ]
  },
  {
   "cell_type": "code",
   "execution_count": null,
   "metadata": {
    "executionInfo": {
     "elapsed": 105525,
     "status": "ok",
     "timestamp": 1701229094314,
     "user": {
      "displayName": "Md Jamaluddin Tanvin",
      "userId": "06457395428218551143"
     },
     "user_tz": -360
    },
    "id": "JJBIyaePnjwY"
   },
   "outputs": [],
   "source": [
    "# DataFrame to store all scraped posts\n",
    "df_all = pd.DataFrame(columns=['Hashtag', 'Text'])\n",
    "\n",
    "# Loop through each hashtag and scrape posts\n",
    "for hashtag in hashtags:\n",
    "    texts = scrape_facebook_hashtag(hashtag, num_posts=3)  # Scrape 3 posts per hashtag\n",
    "    df_temp = pd.DataFrame({'Hashtag': [hashtag] * len(texts), 'Text': texts})  # Create a DataFrame for this hashtag\n",
    "    df_all = pd.concat([df_all, df_temp], ignore_index=True)  # Append to the main DataFrame\n"
   ]
  },
  {
   "cell_type": "code",
   "execution_count": null,
   "metadata": {
    "colab": {
     "base_uri": "https://localhost:8080/",
     "height": 206
    },
    "executionInfo": {
     "elapsed": 391,
     "status": "ok",
     "timestamp": 1701229099225,
     "user": {
      "displayName": "Md Jamaluddin Tanvin",
      "userId": "06457395428218551143"
     },
     "user_tz": -360
    },
    "id": "IQQkvTHsxJv9",
    "outputId": "12974571-98e5-4b8e-fc33-62f30c38f73d"
   },
   "outputs": [],
   "source": [
    "# Display the first few rows of the scraped data\n",
    "print(df_all.head())"
   ]
  },
  {
   "cell_type": "code",
   "execution_count": null,
   "metadata": {
    "colab": {
     "base_uri": "https://localhost:8080/"
    },
    "executionInfo": {
     "elapsed": 597,
     "status": "ok",
     "timestamp": 1701229131684,
     "user": {
      "displayName": "Md Jamaluddin Tanvin",
      "userId": "06457395428218551143"
     },
     "user_tz": -360
    },
    "id": "qBUW4TYdErT4",
    "outputId": "08311d2f-b7ee-464b-b346-bdbae98a1de4"
   },
   "outputs": [],
   "source": [
    "# Check the shape of the DataFrame to confirm the number of rows and columns\n",
    "print(df_all.shape)"
   ]
  },
  {
   "cell_type": "code",
   "execution_count": null,
   "metadata": {
    "executionInfo": {
     "elapsed": 375,
     "status": "ok",
     "timestamp": 1701229388699,
     "user": {
      "displayName": "Md Jamaluddin Tanvin",
      "userId": "06457395428218551143"
     },
     "user_tz": -360
    },
    "id": "DkymQ69iKNjI"
   },
   "outputs": [],
   "source": [
    "# Save the scraped data to a CSV file for future analysis\n",
    "df_all.to_csv('fb_scraped.csv', index=False)\n",
    "print(\"Data saved to 'fb_scraped.csv'\")"
   ]
  }
 ],
 "metadata": {
  "colab": {
   "provenance": []
  },
  "kernelspec": {
   "display_name": "Python 3",
   "name": "python3"
  },
  "language_info": {
   "name": "python"
  }
 },
 "nbformat": 4,
 "nbformat_minor": 0
}
